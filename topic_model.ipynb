{
  "nbformat": 4,
  "nbformat_minor": 0,
  "metadata": {
    "colab": {
      "name": "Untitled27.ipynb",
      "version": "0.3.2",
      "provenance": [],
      "collapsed_sections": [],
      "toc_visible": true
    },
    "kernelspec": {
      "name": "python3",
      "display_name": "Python 3"
    }
  },
  "cells": [
    {
      "cell_type": "markdown",
      "metadata": {
        "id": "ZpDSTb3mJmry",
        "colab_type": "text"
      },
      "source": [
        "# What is Topic Modeling :\n",
        "\n",
        "Topic modeling is an unsupervised technique that intends to analyze large volumes of text data by clustering the documents into groups. In the case of topic modeling, the text data do not have any labels attached to it. Rather, topic modeling tries to group the documents into clusters based on similar characteristics.\n",
        "\n",
        "A typical example of topic modeling is clustering a large number of newspaper articles that belong to the same category. In other words, cluster documents that have the same topic. It is important to mention here that it is extremely difficult to evaluate the performance of topic modeling since there are no right answers. It depends upon the user to find similar characteristics between the documents of one cluster and assign it an appropriate label or topic.\n",
        "    \n",
        "Two approaches are mainly used for topic modeling: **Latent Dirichlet Allocation** and **Non-Negative Matrix factorization**."
      ]
    },
    {
      "cell_type": "markdown",
      "metadata": {
        "id": "Xoq1cMKVLOSp",
        "colab_type": "text"
      },
      "source": [
        "# Latent Dirichlet Allocation (LDA) :\n",
        "\n",
        "**The LDA is based upon two general assumptions:**\n",
        "\n",
        "\n",
        "\n",
        "*   Documents that have similar words usually have the same topic\n",
        "*  Documents that have groups of words frequently occurring together usually have the same topic.\n",
        "\n",
        "These assumptions make sense because the documents that have the same topic, for instance, Business topics will have words like the \"economy\", \"profit\", \"the stock market\", \"loss\", etc. The second assumption states that if these words frequently occur together in multiple documents, those documents may belong to the same category.\n",
        "\n",
        "**Mathematically, the above two assumptions can be represented as:**\n",
        "\n",
        "Documents are probability distributions over latent topics\n",
        "Topics are probability distributions over words\n"
      ]
    },
    {
      "cell_type": "markdown",
      "metadata": {
        "id": "-kVmHtBEcBZq",
        "colab_type": "text"
      },
      "source": [
        "# LDA for Topic Modeling in Python:\n",
        "\n",
        "---\n",
        "\n"
      ]
    },
    {
      "cell_type": "markdown",
      "metadata": {
        "id": "QU8tCbEzjNEd",
        "colab_type": "text"
      },
      "source": [
        "In this section we will see how Python can be used to implement LDA for topic modeling. The data set can be downloaded from the Kaggle.\n",
        "\n",
        "The data set contains user reviews for different products in the food category. We will use LDA to group the user reviews into 5 categories."
      ]
    },
    {
      "cell_type": "markdown",
      "metadata": {
        "id": "DrFP8nIBlId6",
        "colab_type": "text"
      },
      "source": [
        "**The first step, as always, is to import the data set:**"
      ]
    },
    {
      "cell_type": "code",
      "metadata": {
        "id": "hRHusMvjcsQo",
        "colab_type": "code",
        "outputId": "94c96a08-74af-49e2-a79f-a3ae5096f0ee",
        "colab": {
          "base_uri": "https://localhost:8080/",
          "height": 204
        }
      },
      "source": [
        "import pandas as pd  \n",
        "import numpy as np\n",
        "\n",
        "#reviews_datasets = pd.read_csv(r'E:\\Datasets\\Reviews.csv')\n",
        "reviews_datasets = pd.read_csv(r'data.csv')\n",
        "#reviews_datasets = reviews_datasets.head(1000)  \n",
        "reviews_datasets.dropna()\n",
        "reviews_datasets.head() "
      ],
      "execution_count": 141,
      "outputs": [
        {
          "output_type": "execute_result",
          "data": {
            "text/html": [
              "<div>\n",
              "<style scoped>\n",
              "    .dataframe tbody tr th:only-of-type {\n",
              "        vertical-align: middle;\n",
              "    }\n",
              "\n",
              "    .dataframe tbody tr th {\n",
              "        vertical-align: top;\n",
              "    }\n",
              "\n",
              "    .dataframe thead th {\n",
              "        text-align: right;\n",
              "    }\n",
              "</style>\n",
              "<table border=\"1\" class=\"dataframe\">\n",
              "  <thead>\n",
              "    <tr style=\"text-align: right;\">\n",
              "      <th></th>\n",
              "      <th>Text</th>\n",
              "      <th>Summary</th>\n",
              "    </tr>\n",
              "  </thead>\n",
              "  <tbody>\n",
              "    <tr>\n",
              "      <th>0</th>\n",
              "      <td>تعتبر السياحة احدي الركائز المهمة لاقتصاد بلد ...</td>\n",
              "      <td>toursim</td>\n",
              "    </tr>\n",
              "    <tr>\n",
              "      <th>1</th>\n",
              "      <td>تتوقف متعة السياحة الاطلاع تاريخ الأمم السابقة...</td>\n",
              "      <td>toursim</td>\n",
              "    </tr>\n",
              "    <tr>\n",
              "      <th>2</th>\n",
              "      <td>تحتاج السياحة الكثير الاهتمام بالمرافق السياحي...</td>\n",
              "      <td>toursim</td>\n",
              "    </tr>\n",
              "    <tr>\n",
              "      <th>3</th>\n",
              "      <td>تنقسم السياحة الهدف أربعة أنواع وهم</td>\n",
              "      <td>toursim</td>\n",
              "    </tr>\n",
              "    <tr>\n",
              "      <th>4</th>\n",
              "      <td>السياحة الترفيهية  تشمل زيارة الأماكن الساحلية...</td>\n",
              "      <td>toursim</td>\n",
              "    </tr>\n",
              "  </tbody>\n",
              "</table>\n",
              "</div>"
            ],
            "text/plain": [
              "                                                Text  Summary\n",
              "0  تعتبر السياحة احدي الركائز المهمة لاقتصاد بلد ...  toursim\n",
              "1  تتوقف متعة السياحة الاطلاع تاريخ الأمم السابقة...  toursim\n",
              "2  تحتاج السياحة الكثير الاهتمام بالمرافق السياحي...  toursim\n",
              "3                تنقسم السياحة الهدف أربعة أنواع وهم  toursim\n",
              "4  السياحة الترفيهية  تشمل زيارة الأماكن الساحلية...  toursim"
            ]
          },
          "metadata": {
            "tags": []
          },
          "execution_count": 141
        }
      ]
    },
    {
      "cell_type": "code",
      "metadata": {
        "id": "68PYE2IbkkSH",
        "colab_type": "code",
        "outputId": "6c0925bf-d3b0-4c9f-c423-2cd2946430cb",
        "colab": {
          "base_uri": "https://localhost:8080/",
          "height": 54
        }
      },
      "source": [
        "reviews_datasets['Text'][30]"
      ],
      "execution_count": 142,
      "outputs": [
        {
          "output_type": "execute_result",
          "data": {
            "text/plain": [
              "'قامت الدولة بعلو مكانة المرأة أشكال الرياضة فوجدنا سيداتا حصلت مدالية ذهبية فضية التنافس دول نفس الرياضة اللاعبة نور الشربيني لاعبة الأسكواش حصلت بطولة انجلترا العالمية تعد لاعبة مصرية تحصل وهناك أيضا مثالا يحتذي اللاعب أحمد براده وغيره المتألقين الأخرين جعلوا اسم بلدهم يصل عنان السماء ويرفع علم مصر الخارج اذن فالرياضة تعتبر أسمي الأشياء يبرع الأنسان تهتم الدولة بشئون اللاعبين لكرة الفدم جعلهم يصلون كأس العالم سيتم انشاء منافسة عالمية ودولية عام 2018 يظهر دور الدولة السير قدما العالمية ويبين الدور الفعال تحققه الرياضة نكن أكثر احترافيا مثلنا اللاعبين الدول الأخري'"
            ]
          },
          "metadata": {
            "tags": []
          },
          "execution_count": 142
        }
      ]
    },
    {
      "cell_type": "markdown",
      "metadata": {
        "id": "0OAXmaGTk1T_",
        "colab_type": "text"
      },
      "source": [
        "**Before we can apply LDA**, we need to create vocabulary of all the words in our data. Remember from the previous article, we could do so with the help of a count vectorizer. Look at the following script:"
      ]
    },
    {
      "cell_type": "code",
      "metadata": {
        "id": "zrkesqzvkyrQ",
        "colab_type": "code",
        "colab": {}
      },
      "source": [
        "from sklearn.feature_extraction.text import CountVectorizer\n",
        "\n",
        "count_vect = CountVectorizer(max_df=0.8, min_df=2)  \n",
        "doc_term_matrix = count_vect.fit_transform(reviews_datasets['Text'].values.astype('U'))"
      ],
      "execution_count": 0,
      "outputs": []
    },
    {
      "cell_type": "markdown",
      "metadata": {
        "id": "Tyl1ibl0mAmL",
        "colab_type": "text"
      },
      "source": [
        "In the script above we use the ***CountVectorizer*** class from the ***sklearn.feature_extraction.text*** module to create a document-term matrix. We specify to only include those words that appear in less than 80% of the document and appear in at least 2 documents. We also remove all the stop words as they do not really contribute to topic modeling.\n",
        "\n",
        "**Now let's look at our document term matrix:**"
      ]
    },
    {
      "cell_type": "code",
      "metadata": {
        "id": "91D3Eb73j-xY",
        "colab_type": "code",
        "outputId": "f08f4377-a268-475f-c1d6-35dac9d6ae69",
        "colab": {
          "base_uri": "https://localhost:8080/",
          "height": 51
        }
      },
      "source": [
        "doc_term_matrix"
      ],
      "execution_count": 144,
      "outputs": [
        {
          "output_type": "execute_result",
          "data": {
            "text/plain": [
              "<40x226 sparse matrix of type '<class 'numpy.int64'>'\n",
              "\twith 643 stored elements in Compressed Sparse Row format>"
            ]
          },
          "metadata": {
            "tags": []
          },
          "execution_count": 144
        }
      ]
    },
    {
      "cell_type": "markdown",
      "metadata": {
        "id": "gU0Ew8SQmybv",
        "colab_type": "text"
      },
      "source": [
        "Each of 40 documents is represented as 226 dimensional vector, which means that our vocabulary has 226 words.\n",
        "\n",
        "**Next, we will use LDA to create topics along with the probability distribution for each word in our vocabulary for each topic:**"
      ]
    },
    {
      "cell_type": "code",
      "metadata": {
        "id": "9Icefj5FmKx1",
        "colab_type": "code",
        "outputId": "e849f507-d408-47af-bdcf-fa4b8906f25f",
        "colab": {
          "base_uri": "https://localhost:8080/",
          "height": 136
        }
      },
      "source": [
        "from sklearn.decomposition import LatentDirichletAllocation\n",
        "\n",
        "LDA = LatentDirichletAllocation(n_components=2, random_state=42)  \n",
        "LDA.fit(doc_term_matrix)  "
      ],
      "execution_count": 145,
      "outputs": [
        {
          "output_type": "execute_result",
          "data": {
            "text/plain": [
              "LatentDirichletAllocation(batch_size=128, doc_topic_prior=None,\n",
              "                          evaluate_every=-1, learning_decay=0.7,\n",
              "                          learning_method='batch', learning_offset=10.0,\n",
              "                          max_doc_update_iter=100, max_iter=10,\n",
              "                          mean_change_tol=0.001, n_components=2, n_jobs=None,\n",
              "                          perp_tol=0.1, random_state=42, topic_word_prior=None,\n",
              "                          total_samples=1000000.0, verbose=0)"
            ]
          },
          "metadata": {
            "tags": []
          },
          "execution_count": 145
        }
      ]
    },
    {
      "cell_type": "markdown",
      "metadata": {
        "id": "TR6bwi_dnuwZ",
        "colab_type": "text"
      },
      "source": [
        "In the script above we use the*** LatentDirichletAllocation*** class from the ***sklearn.decomposition*** library to perform LDA on our document-term matrix. The parameter *n_components* specifies the number of categories, or topics, that we want our text to be divided into. The parameter *random_state* (aka the seed) is set to 42 so that you get the results similar to mine.\n",
        "\n",
        "Let's randomly fetch words from our vocabulary. We know that the count vectorizer contains all the words in our vocabulary. We can use the get_feature_names() method and pass it the ID of the word that we want to fetch.\n",
        "\n",
        "Let's randomly fetch words from our vocabulary. We know that the count vectorizer contains all the words in our vocabulary. We can use the get_feature_names() method and pass it the ID of the word that we want to fetch.\n",
        "\n",
        "**The following script randomly fetches 10 words from our vocabulary:**"
      ]
    },
    {
      "cell_type": "code",
      "metadata": {
        "id": "kAXZwaxdnB3v",
        "colab_type": "code",
        "outputId": "2981cbb2-cbe1-4344-9a7e-a9a296fea69b",
        "colab": {
          "base_uri": "https://localhost:8080/",
          "height": 187
        }
      },
      "source": [
        "import random\n",
        "\n",
        "for i in range(10):  \n",
        "    random_id = random.randint(0,len(count_vect.get_feature_names()))\n",
        "    print(count_vect.get_feature_names()[random_id])"
      ],
      "execution_count": 146,
      "outputs": [
        {
          "output_type": "stream",
          "text": [
            "مختلفة\n",
            "مختلفة\n",
            "نقل\n",
            "الحلول\n",
            "تعود\n",
            "البطالة\n",
            "جامع\n",
            "الخيل\n",
            "الرياضية\n",
            "القدم\n"
          ],
          "name": "stdout"
        }
      ]
    },
    {
      "cell_type": "markdown",
      "metadata": {
        "id": "Q7UwqIWZpS1O",
        "colab_type": "text"
      },
      "source": [
        "**Let's find 10 words with the highest probability for the first topic. To get the first topic, you can use the components_ attribute and pass a 0 index as the value:**"
      ]
    },
    {
      "cell_type": "code",
      "metadata": {
        "id": "YlXtqgvqpEtP",
        "colab_type": "code",
        "colab": {}
      },
      "source": [
        "first_topic = LDA.components_[0]  \n"
      ],
      "execution_count": 0,
      "outputs": []
    },
    {
      "cell_type": "markdown",
      "metadata": {
        "id": "kbDhpxDgpYcf",
        "colab_type": "text"
      },
      "source": [
        "The first topic contains the probabilities of 226 words for topic 1. To sort the indexes according to probability values, we can use the argsort() function. Once sorted, the 10 words with the highest probabilities will now belong to the last 10 indexes of the array. The following script \n",
        "\n",
        "**returns the indexes of the 10 words with the highest probabilities:**"
      ]
    },
    {
      "cell_type": "code",
      "metadata": {
        "id": "hvxQBFkipXa3",
        "colab_type": "code",
        "outputId": "219c7e39-1db2-4314-f13f-ef26683048b7",
        "colab": {
          "base_uri": "https://localhost:8080/",
          "height": 34
        }
      },
      "source": [
        "top_topic_words = first_topic.argsort()[-10:]\n",
        "top_topic_words"
      ],
      "execution_count": 148,
      "outputs": [
        {
          "output_type": "execute_result",
          "data": {
            "text/plain": [
              "array([108,  88, 165, 131,   1, 220,  21, 182,  33,  57])"
            ]
          },
          "metadata": {
            "tags": []
          },
          "execution_count": 148
        }
      ]
    },
    {
      "cell_type": "markdown",
      "metadata": {
        "id": "ZGF3-iHKqLdn",
        "colab_type": "text"
      },
      "source": [
        "These indexes can then be used to retrieve the value of the words from the count_vect object.\n",
        "\n",
        "**which can be done like this:**"
      ]
    },
    {
      "cell_type": "code",
      "metadata": {
        "id": "tgr11JROp3t4",
        "colab_type": "code",
        "outputId": "64250f33-6318-4842-c85a-30a0648fa266",
        "colab": {
          "base_uri": "https://localhost:8080/",
          "height": 187
        }
      },
      "source": [
        "for i in top_topic_words:  \n",
        "    print(count_vect.get_feature_names()[i])"
      ],
      "execution_count": 149,
      "outputs": [
        {
          "output_type": "stream",
          "text": [
            "بشكل\n",
            "الكثير\n",
            "فوائد\n",
            "جسده\n",
            "أكثر\n",
            "يقوم\n",
            "الانسان\n",
            "ممارسة\n",
            "الجسم\n",
            "الرياضة\n"
          ],
          "name": "stdout"
        }
      ]
    },
    {
      "cell_type": "markdown",
      "metadata": {
        "id": "iGARqklpqmQi",
        "colab_type": "text"
      },
      "source": [
        "**Let's print the 10 words with highest probabilities for all the five topics:**"
      ]
    },
    {
      "cell_type": "code",
      "metadata": {
        "id": "jv3PczxJqb7O",
        "colab_type": "code",
        "outputId": "d6251cd3-50d3-40f2-9af0-e719c01f0f23",
        "colab": {
          "base_uri": "https://localhost:8080/",
          "height": 153
        }
      },
      "source": [
        "for i,topic in enumerate(LDA.components_):  \n",
        "    print(f'Top 10 words for topic #{i}:')\n",
        "    print([count_vect.get_feature_names()[i] for i in topic.argsort()[-10:]])\n",
        "    print('\\n')"
      ],
      "execution_count": 150,
      "outputs": [
        {
          "output_type": "stream",
          "text": [
            "Top 10 words for topic #0:\n",
            "['بشكل', 'الكثير', 'فوائد', 'جسده', 'أكثر', 'يقوم', 'الانسان', 'ممارسة', 'الجسم', 'الرياضة']\n",
            "\n",
            "\n",
            "Top 10 words for topic #1:\n",
            "['وكذلك', 'الطبيعية', 'الكثير', 'السياح', 'تعتبر', 'سياحة', 'العالم', 'الدولة', 'مصر', 'السياحة']\n",
            "\n",
            "\n"
          ],
          "name": "stdout"
        }
      ]
    },
    {
      "cell_type": "markdown",
      "metadata": {
        "id": "ZOv_mOoJte01",
        "colab_type": "text"
      },
      "source": [
        "The output shows that the firsr topic might contain reviews about sports and the second topic might contain reviews about toursim, etc. Yeou can see that there a few common words in all the categories. This is because there are few words that are used for almost all the topics. For instance \"good\", \"great\", \"like\" etc.\n",
        "\n",
        "As a final step, we will add a column to the original data frame that will store the topic for the text. To do so, we can use LDA.transform() method and pass it our document-term matrix. This method will assign the probability of all the topics to each document. \n",
        "\n",
        "**Look at the following code:**"
      ]
    },
    {
      "cell_type": "code",
      "metadata": {
        "id": "_mfH2DNxqqKH",
        "colab_type": "code",
        "outputId": "cb069cb2-a2ec-4cd1-eaed-18b1cfad6dd3",
        "colab": {
          "base_uri": "https://localhost:8080/",
          "height": 34
        }
      },
      "source": [
        "topic_values = LDA.transform(doc_term_matrix)  \n",
        "topic_values.shape  "
      ],
      "execution_count": 151,
      "outputs": [
        {
          "output_type": "execute_result",
          "data": {
            "text/plain": [
              "(40, 2)"
            ]
          },
          "metadata": {
            "tags": []
          },
          "execution_count": 151
        }
      ]
    },
    {
      "cell_type": "markdown",
      "metadata": {
        "id": "cFvTU52Lt-iD",
        "colab_type": "text"
      },
      "source": [
        "In the output, you will see (20000, 5) which means that each of the document has 5 columns where each column corresponds to the probability value of a particular topic. To find the topic index with maximum value, we can call the argmax() method and pass 1 as the value for the axis parameter.\n",
        "\n",
        "**The following script adds a new column for topic in the data frame and assigns the topic value to each row in the column:**"
      ]
    },
    {
      "cell_type": "code",
      "metadata": {
        "id": "rakVnjDHtmIW",
        "colab_type": "code",
        "colab": {}
      },
      "source": [
        "reviews_datasets['Topic'] = topic_values.argmax(axis=1)  \n",
        "reviews_datasets.to_csv('LDA_result.csv', encoding='utf-8', index=False)"
      ],
      "execution_count": 0,
      "outputs": []
    },
    {
      "cell_type": "markdown",
      "metadata": {
        "id": "WCS9utBsuOZy",
        "colab_type": "text"
      },
      "source": [
        "**Let's now see how the data set looks:**"
      ]
    },
    {
      "cell_type": "code",
      "metadata": {
        "id": "0aqYtrC7uKAh",
        "colab_type": "code",
        "outputId": "8411fb57-93e7-4869-a202-05deec32bb9b",
        "colab": {
          "base_uri": "https://localhost:8080/",
          "height": 204
        }
      },
      "source": [
        "reviews_datasets.head()  "
      ],
      "execution_count": 153,
      "outputs": [
        {
          "output_type": "execute_result",
          "data": {
            "text/html": [
              "<div>\n",
              "<style scoped>\n",
              "    .dataframe tbody tr th:only-of-type {\n",
              "        vertical-align: middle;\n",
              "    }\n",
              "\n",
              "    .dataframe tbody tr th {\n",
              "        vertical-align: top;\n",
              "    }\n",
              "\n",
              "    .dataframe thead th {\n",
              "        text-align: right;\n",
              "    }\n",
              "</style>\n",
              "<table border=\"1\" class=\"dataframe\">\n",
              "  <thead>\n",
              "    <tr style=\"text-align: right;\">\n",
              "      <th></th>\n",
              "      <th>Text</th>\n",
              "      <th>Summary</th>\n",
              "      <th>Topic</th>\n",
              "    </tr>\n",
              "  </thead>\n",
              "  <tbody>\n",
              "    <tr>\n",
              "      <th>0</th>\n",
              "      <td>تعتبر السياحة احدي الركائز المهمة لاقتصاد بلد ...</td>\n",
              "      <td>toursim</td>\n",
              "      <td>1</td>\n",
              "    </tr>\n",
              "    <tr>\n",
              "      <th>1</th>\n",
              "      <td>تتوقف متعة السياحة الاطلاع تاريخ الأمم السابقة...</td>\n",
              "      <td>toursim</td>\n",
              "      <td>1</td>\n",
              "    </tr>\n",
              "    <tr>\n",
              "      <th>2</th>\n",
              "      <td>تحتاج السياحة الكثير الاهتمام بالمرافق السياحي...</td>\n",
              "      <td>toursim</td>\n",
              "      <td>1</td>\n",
              "    </tr>\n",
              "    <tr>\n",
              "      <th>3</th>\n",
              "      <td>تنقسم السياحة الهدف أربعة أنواع وهم</td>\n",
              "      <td>toursim</td>\n",
              "      <td>1</td>\n",
              "    </tr>\n",
              "    <tr>\n",
              "      <th>4</th>\n",
              "      <td>السياحة الترفيهية  تشمل زيارة الأماكن الساحلية...</td>\n",
              "      <td>toursim</td>\n",
              "      <td>0</td>\n",
              "    </tr>\n",
              "  </tbody>\n",
              "</table>\n",
              "</div>"
            ],
            "text/plain": [
              "                                                Text  Summary  Topic\n",
              "0  تعتبر السياحة احدي الركائز المهمة لاقتصاد بلد ...  toursim      1\n",
              "1  تتوقف متعة السياحة الاطلاع تاريخ الأمم السابقة...  toursim      1\n",
              "2  تحتاج السياحة الكثير الاهتمام بالمرافق السياحي...  toursim      1\n",
              "3                تنقسم السياحة الهدف أربعة أنواع وهم  toursim      1\n",
              "4  السياحة الترفيهية  تشمل زيارة الأماكن الساحلية...  toursim      0"
            ]
          },
          "metadata": {
            "tags": []
          },
          "execution_count": 153
        }
      ]
    },
    {
      "cell_type": "markdown",
      "metadata": {
        "id": "SeAmYcri4ZGL",
        "colab_type": "text"
      },
      "source": [
        "# Non-Negative Matrix Factorization (NMF):\n",
        "\n",
        "In the previous section, we saw how LDA can be used for topic modeling. In this section, we will see how non-negative matrix factorization can be used for topic modeling.\n",
        "\n",
        "Non-negative matrix factorization is also a supervised learning technique which performs clustering as well as dimensionality reduction. It can be used in combination with TF-IDF scheme to perform topic modeling. In this section, we will see how Python can be used to perform non-negative matrix factorization for topic modeling."
      ]
    },
    {
      "cell_type": "markdown",
      "metadata": {
        "id": "_0OJq1qQ4_BM",
        "colab_type": "text"
      },
      "source": [
        "**NMF for Topic Modeling in Python:**\n",
        "\n",
        "In this section, we will perform topic modeling on the same data set as we used in the last section. You will see that the steps are also quite similar."
      ]
    },
    {
      "cell_type": "code",
      "metadata": {
        "id": "RNWJtl3g5D1t",
        "colab_type": "code",
        "outputId": "2e2171d0-d542-4d77-ac88-977d86a0fc92",
        "colab": {
          "base_uri": "https://localhost:8080/",
          "height": 204
        }
      },
      "source": [
        "import pandas as pd  \n",
        "import numpy as np\n",
        "\n",
        "reviews_datasets = pd.read_csv(r'data.csv')  \n",
        "reviews_datasets.head()"
      ],
      "execution_count": 154,
      "outputs": [
        {
          "output_type": "execute_result",
          "data": {
            "text/html": [
              "<div>\n",
              "<style scoped>\n",
              "    .dataframe tbody tr th:only-of-type {\n",
              "        vertical-align: middle;\n",
              "    }\n",
              "\n",
              "    .dataframe tbody tr th {\n",
              "        vertical-align: top;\n",
              "    }\n",
              "\n",
              "    .dataframe thead th {\n",
              "        text-align: right;\n",
              "    }\n",
              "</style>\n",
              "<table border=\"1\" class=\"dataframe\">\n",
              "  <thead>\n",
              "    <tr style=\"text-align: right;\">\n",
              "      <th></th>\n",
              "      <th>Text</th>\n",
              "      <th>Summary</th>\n",
              "    </tr>\n",
              "  </thead>\n",
              "  <tbody>\n",
              "    <tr>\n",
              "      <th>0</th>\n",
              "      <td>تعتبر السياحة احدي الركائز المهمة لاقتصاد بلد ...</td>\n",
              "      <td>toursim</td>\n",
              "    </tr>\n",
              "    <tr>\n",
              "      <th>1</th>\n",
              "      <td>تتوقف متعة السياحة الاطلاع تاريخ الأمم السابقة...</td>\n",
              "      <td>toursim</td>\n",
              "    </tr>\n",
              "    <tr>\n",
              "      <th>2</th>\n",
              "      <td>تحتاج السياحة الكثير الاهتمام بالمرافق السياحي...</td>\n",
              "      <td>toursim</td>\n",
              "    </tr>\n",
              "    <tr>\n",
              "      <th>3</th>\n",
              "      <td>تنقسم السياحة الهدف أربعة أنواع وهم</td>\n",
              "      <td>toursim</td>\n",
              "    </tr>\n",
              "    <tr>\n",
              "      <th>4</th>\n",
              "      <td>السياحة الترفيهية  تشمل زيارة الأماكن الساحلية...</td>\n",
              "      <td>toursim</td>\n",
              "    </tr>\n",
              "  </tbody>\n",
              "</table>\n",
              "</div>"
            ],
            "text/plain": [
              "                                                Text  Summary\n",
              "0  تعتبر السياحة احدي الركائز المهمة لاقتصاد بلد ...  toursim\n",
              "1  تتوقف متعة السياحة الاطلاع تاريخ الأمم السابقة...  toursim\n",
              "2  تحتاج السياحة الكثير الاهتمام بالمرافق السياحي...  toursim\n",
              "3                تنقسم السياحة الهدف أربعة أنواع وهم  toursim\n",
              "4  السياحة الترفيهية  تشمل زيارة الأماكن الساحلية...  toursim"
            ]
          },
          "metadata": {
            "tags": []
          },
          "execution_count": 154
        }
      ]
    },
    {
      "cell_type": "code",
      "metadata": {
        "id": "wSH7vrO95tUh",
        "colab_type": "code",
        "outputId": "6f32a1fd-ec10-46c8-8938-f982a8e36c9b",
        "colab": {
          "base_uri": "https://localhost:8080/",
          "height": 136
        }
      },
      "source": [
        "from sklearn.feature_extraction.text import TfidfVectorizer\n",
        "\n",
        "tfidf_vect = TfidfVectorizer(max_df=0.8, min_df=2)  \n",
        "doc_term_matrix = tfidf_vect.fit_transform(reviews_datasets['Text'].values.astype('U'))  \n",
        "tfidf_vect"
      ],
      "execution_count": 155,
      "outputs": [
        {
          "output_type": "execute_result",
          "data": {
            "text/plain": [
              "TfidfVectorizer(analyzer='word', binary=False, decode_error='strict',\n",
              "                dtype=<class 'numpy.float64'>, encoding='utf-8',\n",
              "                input='content', lowercase=True, max_df=0.8, max_features=None,\n",
              "                min_df=2, ngram_range=(1, 1), norm='l2', preprocessor=None,\n",
              "                smooth_idf=True, stop_words=None, strip_accents=None,\n",
              "                sublinear_tf=False, token_pattern='(?u)\\\\b\\\\w\\\\w+\\\\b',\n",
              "                tokenizer=None, use_idf=True, vocabulary=None)"
            ]
          },
          "metadata": {
            "tags": []
          },
          "execution_count": 155
        }
      ]
    },
    {
      "cell_type": "code",
      "metadata": {
        "id": "sz-VQ_4eZnND",
        "colab_type": "code",
        "outputId": "8ea370df-8885-4891-b74a-1ae0a4d69ae9",
        "colab": {
          "base_uri": "https://localhost:8080/",
          "height": 51
        }
      },
      "source": [
        "doc_term_matrix"
      ],
      "execution_count": 156,
      "outputs": [
        {
          "output_type": "execute_result",
          "data": {
            "text/plain": [
              "<40x226 sparse matrix of type '<class 'numpy.float64'>'\n",
              "\twith 643 stored elements in Compressed Sparse Row format>"
            ]
          },
          "metadata": {
            "tags": []
          },
          "execution_count": 156
        }
      ]
    },
    {
      "cell_type": "code",
      "metadata": {
        "id": "S_TVe0EU57K7",
        "colab_type": "code",
        "outputId": "7bea6871-3d6c-4c33-c3dc-d6940b431c1e",
        "colab": {
          "base_uri": "https://localhost:8080/",
          "height": 68
        }
      },
      "source": [
        "from sklearn.decomposition import NMF\n",
        "\n",
        "nmf = NMF(n_components=2, random_state=42)  \n",
        "nmf.fit(doc_term_matrix )"
      ],
      "execution_count": 157,
      "outputs": [
        {
          "output_type": "execute_result",
          "data": {
            "text/plain": [
              "NMF(alpha=0.0, beta_loss='frobenius', init=None, l1_ratio=0.0, max_iter=200,\n",
              "    n_components=2, random_state=42, shuffle=False, solver='cd', tol=0.0001,\n",
              "    verbose=0)"
            ]
          },
          "metadata": {
            "tags": []
          },
          "execution_count": 157
        }
      ]
    },
    {
      "cell_type": "code",
      "metadata": {
        "id": "cffQABSo7G0K",
        "colab_type": "code",
        "outputId": "864721c9-5211-4afd-9ea2-7c99bd1dbd17",
        "colab": {
          "base_uri": "https://localhost:8080/",
          "height": 187
        }
      },
      "source": [
        "import random\n",
        "\n",
        "for i in range(10):  \n",
        "    random_id = random.randint(0,len(tfidf_vect.get_feature_names()))\n",
        "    print(tfidf_vect.get_feature_names()[random_id])"
      ],
      "execution_count": 158,
      "outputs": [
        {
          "output_type": "stream",
          "text": [
            "الاثار\n",
            "أيضا\n",
            "تساهم\n",
            "الحياتية\n",
            "وذلك\n",
            "أماكن\n",
            "عرف\n",
            "كبيرا\n",
            "تعود\n",
            "يقوم\n"
          ],
          "name": "stdout"
        }
      ]
    },
    {
      "cell_type": "code",
      "metadata": {
        "id": "jNQXUhOq7Zt3",
        "colab_type": "code",
        "outputId": "cfb96b76-1b07-4996-d868-4cdeb88ec5fe",
        "colab": {
          "base_uri": "https://localhost:8080/",
          "height": 34
        }
      },
      "source": [
        "first_topic = nmf.components_[0]  \n",
        "top_topic_words = first_topic.argsort()[-10:] \n",
        "top_topic_words"
      ],
      "execution_count": 159,
      "outputs": [
        {
          "output_type": "execute_result",
          "data": {
            "text/plain": [
              "array([147,  87,  65, 119, 149,  53,  94,  76, 179,  66])"
            ]
          },
          "metadata": {
            "tags": []
          },
          "execution_count": 159
        }
      ]
    },
    {
      "cell_type": "code",
      "metadata": {
        "id": "0ZeLTu4bRNud",
        "colab_type": "code",
        "outputId": "885c5b76-db3a-4250-f986-4fcfddfc4eec",
        "colab": {
          "base_uri": "https://localhost:8080/",
          "height": 187
        }
      },
      "source": [
        "for i in top_topic_words:  \n",
        "    print(tfidf_vect.get_feature_names()[i])"
      ],
      "execution_count": 160,
      "outputs": [
        {
          "output_type": "stream",
          "text": [
            "زيارة\n",
            "القومي\n",
            "السياح\n",
            "تعتبر\n",
            "سياحة\n",
            "الدولة\n",
            "المختلفة\n",
            "العالم\n",
            "مصر\n",
            "السياحة\n"
          ],
          "name": "stdout"
        }
      ]
    },
    {
      "cell_type": "code",
      "metadata": {
        "id": "w5cN7kGARpIX",
        "colab_type": "code",
        "outputId": "b0c73e14-4972-4594-e435-80b088c25189",
        "colab": {
          "base_uri": "https://localhost:8080/",
          "height": 153
        }
      },
      "source": [
        "for i,topic in enumerate(nmf.components_):  \n",
        "    print(f'Top 10 words for topic #{i}:')\n",
        "    print([tfidf_vect.get_feature_names()[i] for i in topic.argsort()[-10:]])\n",
        "    print('\\n')"
      ],
      "execution_count": 161,
      "outputs": [
        {
          "output_type": "stream",
          "text": [
            "Top 10 words for topic #0:\n",
            "['زيارة', 'القومي', 'السياح', 'تعتبر', 'سياحة', 'الدولة', 'المختلفة', 'العالم', 'مصر', 'السياحة']\n",
            "\n",
            "\n",
            "Top 10 words for topic #1:\n",
            "['الرياضية', 'الرياضي', 'فوائد', 'جسده', 'أكثر', 'الانسان', 'يقوم', 'ممارسة', 'الجسم', 'الرياضة']\n",
            "\n",
            "\n"
          ],
          "name": "stdout"
        }
      ]
    },
    {
      "cell_type": "code",
      "metadata": {
        "id": "dNyiyaPrRqNB",
        "colab_type": "code",
        "outputId": "bda891cb-1139-4bee-dc68-0d34161fe2f7",
        "colab": {
          "base_uri": "https://localhost:8080/",
          "height": 204
        }
      },
      "source": [
        "topic_values = nmf.transform(doc_term_matrix)  \n",
        "reviews_datasets['Topic'] = topic_values.argmax(axis=1)  \n",
        "reviews_datasets.to_csv('NMF_result.csv', encoding='utf-8', index=False)\n",
        "reviews_datasets.head()"
      ],
      "execution_count": 162,
      "outputs": [
        {
          "output_type": "execute_result",
          "data": {
            "text/html": [
              "<div>\n",
              "<style scoped>\n",
              "    .dataframe tbody tr th:only-of-type {\n",
              "        vertical-align: middle;\n",
              "    }\n",
              "\n",
              "    .dataframe tbody tr th {\n",
              "        vertical-align: top;\n",
              "    }\n",
              "\n",
              "    .dataframe thead th {\n",
              "        text-align: right;\n",
              "    }\n",
              "</style>\n",
              "<table border=\"1\" class=\"dataframe\">\n",
              "  <thead>\n",
              "    <tr style=\"text-align: right;\">\n",
              "      <th></th>\n",
              "      <th>Text</th>\n",
              "      <th>Summary</th>\n",
              "      <th>Topic</th>\n",
              "    </tr>\n",
              "  </thead>\n",
              "  <tbody>\n",
              "    <tr>\n",
              "      <th>0</th>\n",
              "      <td>تعتبر السياحة احدي الركائز المهمة لاقتصاد بلد ...</td>\n",
              "      <td>toursim</td>\n",
              "      <td>0</td>\n",
              "    </tr>\n",
              "    <tr>\n",
              "      <th>1</th>\n",
              "      <td>تتوقف متعة السياحة الاطلاع تاريخ الأمم السابقة...</td>\n",
              "      <td>toursim</td>\n",
              "      <td>0</td>\n",
              "    </tr>\n",
              "    <tr>\n",
              "      <th>2</th>\n",
              "      <td>تحتاج السياحة الكثير الاهتمام بالمرافق السياحي...</td>\n",
              "      <td>toursim</td>\n",
              "      <td>0</td>\n",
              "    </tr>\n",
              "    <tr>\n",
              "      <th>3</th>\n",
              "      <td>تنقسم السياحة الهدف أربعة أنواع وهم</td>\n",
              "      <td>toursim</td>\n",
              "      <td>0</td>\n",
              "    </tr>\n",
              "    <tr>\n",
              "      <th>4</th>\n",
              "      <td>السياحة الترفيهية  تشمل زيارة الأماكن الساحلية...</td>\n",
              "      <td>toursim</td>\n",
              "      <td>0</td>\n",
              "    </tr>\n",
              "  </tbody>\n",
              "</table>\n",
              "</div>"
            ],
            "text/plain": [
              "                                                Text  Summary  Topic\n",
              "0  تعتبر السياحة احدي الركائز المهمة لاقتصاد بلد ...  toursim      0\n",
              "1  تتوقف متعة السياحة الاطلاع تاريخ الأمم السابقة...  toursim      0\n",
              "2  تحتاج السياحة الكثير الاهتمام بالمرافق السياحي...  toursim      0\n",
              "3                تنقسم السياحة الهدف أربعة أنواع وهم  toursim      0\n",
              "4  السياحة الترفيهية  تشمل زيارة الأماكن الساحلية...  toursim      0"
            ]
          },
          "metadata": {
            "tags": []
          },
          "execution_count": 162
        }
      ]
    },
    {
      "cell_type": "markdown",
      "metadata": {
        "id": "l80rFUwbL2QR",
        "colab_type": "text"
      },
      "source": [
        "# Text Analytics tfidf:\n",
        "\n",
        "after you see this vedio\n",
        "https://www.youtube.com/watch?v=hXNbFNCgPfY\n",
        "\n",
        "**you can follow this code**"
      ]
    },
    {
      "cell_type": "code",
      "metadata": {
        "id": "YqtN2kdKMs1i",
        "colab_type": "code",
        "colab": {}
      },
      "source": [
        "import numpy as np\n",
        "import pandas as pd\n",
        "from sklearn.feature_extraction.text import CountVectorizer\n",
        "from sklearn.model_selection import train_test_split\n",
        "from sklearn.naive_bayes import MultinomialNB\n",
        "from sklearn.feature_extraction.text import TfidfVectorizer"
      ],
      "execution_count": 0,
      "outputs": []
    },
    {
      "cell_type": "code",
      "metadata": {
        "id": "GpF0AYnrN1Uv",
        "colab_type": "code",
        "colab": {}
      },
      "source": [
        "df=pd.read_csv('data.csv')"
      ],
      "execution_count": 0,
      "outputs": []
    },
    {
      "cell_type": "code",
      "metadata": {
        "id": "fjzqjWX0PFmB",
        "colab_type": "code",
        "colab": {
          "base_uri": "https://localhost:8080/",
          "height": 204
        },
        "outputId": "e73615d8-3715-4c01-8152-94404ec89e6f"
      },
      "source": [
        "df.head()"
      ],
      "execution_count": 9,
      "outputs": [
        {
          "output_type": "execute_result",
          "data": {
            "text/html": [
              "<div>\n",
              "<style scoped>\n",
              "    .dataframe tbody tr th:only-of-type {\n",
              "        vertical-align: middle;\n",
              "    }\n",
              "\n",
              "    .dataframe tbody tr th {\n",
              "        vertical-align: top;\n",
              "    }\n",
              "\n",
              "    .dataframe thead th {\n",
              "        text-align: right;\n",
              "    }\n",
              "</style>\n",
              "<table border=\"1\" class=\"dataframe\">\n",
              "  <thead>\n",
              "    <tr style=\"text-align: right;\">\n",
              "      <th></th>\n",
              "      <th>Text</th>\n",
              "      <th>Summary</th>\n",
              "    </tr>\n",
              "  </thead>\n",
              "  <tbody>\n",
              "    <tr>\n",
              "      <th>0</th>\n",
              "      <td>تعتبر السياحة احدي الركائز المهمة لاقتصاد بلد ...</td>\n",
              "      <td>toursim</td>\n",
              "    </tr>\n",
              "    <tr>\n",
              "      <th>1</th>\n",
              "      <td>تتوقف متعة السياحة الاطلاع تاريخ الأمم السابقة...</td>\n",
              "      <td>toursim</td>\n",
              "    </tr>\n",
              "    <tr>\n",
              "      <th>2</th>\n",
              "      <td>تحتاج السياحة الكثير الاهتمام بالمرافق السياحي...</td>\n",
              "      <td>toursim</td>\n",
              "    </tr>\n",
              "    <tr>\n",
              "      <th>3</th>\n",
              "      <td>تنقسم السياحة الهدف أربعة أنواع وهم</td>\n",
              "      <td>toursim</td>\n",
              "    </tr>\n",
              "    <tr>\n",
              "      <th>4</th>\n",
              "      <td>السياحة الترفيهية  تشمل زيارة الأماكن الساحلية...</td>\n",
              "      <td>toursim</td>\n",
              "    </tr>\n",
              "  </tbody>\n",
              "</table>\n",
              "</div>"
            ],
            "text/plain": [
              "                                                Text  Summary\n",
              "0  تعتبر السياحة احدي الركائز المهمة لاقتصاد بلد ...  toursim\n",
              "1  تتوقف متعة السياحة الاطلاع تاريخ الأمم السابقة...  toursim\n",
              "2  تحتاج السياحة الكثير الاهتمام بالمرافق السياحي...  toursim\n",
              "3                تنقسم السياحة الهدف أربعة أنواع وهم  toursim\n",
              "4  السياحة الترفيهية  تشمل زيارة الأماكن الساحلية...  toursim"
            ]
          },
          "metadata": {
            "tags": []
          },
          "execution_count": 9
        }
      ]
    },
    {
      "cell_type": "code",
      "metadata": {
        "id": "XpyZ_wdAPXHG",
        "colab_type": "code",
        "colab": {
          "base_uri": "https://localhost:8080/",
          "height": 34
        },
        "outputId": "b5ea2503-fef9-4b21-e1b4-1dc21515d780"
      },
      "source": [
        "len(df)"
      ],
      "execution_count": 10,
      "outputs": [
        {
          "output_type": "execute_result",
          "data": {
            "text/plain": [
              "40"
            ]
          },
          "metadata": {
            "tags": []
          },
          "execution_count": 10
        }
      ]
    },
    {
      "cell_type": "code",
      "metadata": {
        "id": "blNbORRjPnEM",
        "colab_type": "code",
        "colab": {
          "base_uri": "https://localhost:8080/",
          "height": 34
        },
        "outputId": "81ec36d9-38a9-4613-bc76-dd2449dc0a92"
      },
      "source": [
        "\n",
        "len(df[df.Summary=='toursim'])"
      ],
      "execution_count": 11,
      "outputs": [
        {
          "output_type": "execute_result",
          "data": {
            "text/plain": [
              "27"
            ]
          },
          "metadata": {
            "tags": []
          },
          "execution_count": 11
        }
      ]
    },
    {
      "cell_type": "code",
      "metadata": {
        "id": "ER8dTpJ5PzNs",
        "colab_type": "code",
        "colab": {
          "base_uri": "https://localhost:8080/",
          "height": 34
        },
        "outputId": "7e4b0abf-8e99-45ce-eb1d-c9076f990041"
      },
      "source": [
        "len(df[df.Summary=='sports'])"
      ],
      "execution_count": 13,
      "outputs": [
        {
          "output_type": "execute_result",
          "data": {
            "text/plain": [
              "13"
            ]
          },
          "metadata": {
            "tags": []
          },
          "execution_count": 13
        }
      ]
    },
    {
      "cell_type": "code",
      "metadata": {
        "id": "2J-D85_vP483",
        "colab_type": "code",
        "colab": {}
      },
      "source": [
        "df.loc[df[\"Summary\"]=='toursim',\"Summary\",] = 0"
      ],
      "execution_count": 0,
      "outputs": []
    },
    {
      "cell_type": "code",
      "metadata": {
        "id": "zgg8hTQyQF3F",
        "colab_type": "code",
        "colab": {}
      },
      "source": [
        "df.loc[df[\"Summary\"]=='sports',\"Summary\",] = 1"
      ],
      "execution_count": 0,
      "outputs": []
    },
    {
      "cell_type": "code",
      "metadata": {
        "id": "sqaYbT7WQyrZ",
        "colab_type": "code",
        "colab": {
          "base_uri": "https://localhost:8080/",
          "height": 204
        },
        "outputId": "8f07dc7a-a9b8-40db-8e4f-1fd2682407b0"
      },
      "source": [
        "df.head()"
      ],
      "execution_count": 17,
      "outputs": [
        {
          "output_type": "execute_result",
          "data": {
            "text/html": [
              "<div>\n",
              "<style scoped>\n",
              "    .dataframe tbody tr th:only-of-type {\n",
              "        vertical-align: middle;\n",
              "    }\n",
              "\n",
              "    .dataframe tbody tr th {\n",
              "        vertical-align: top;\n",
              "    }\n",
              "\n",
              "    .dataframe thead th {\n",
              "        text-align: right;\n",
              "    }\n",
              "</style>\n",
              "<table border=\"1\" class=\"dataframe\">\n",
              "  <thead>\n",
              "    <tr style=\"text-align: right;\">\n",
              "      <th></th>\n",
              "      <th>Text</th>\n",
              "      <th>Summary</th>\n",
              "    </tr>\n",
              "  </thead>\n",
              "  <tbody>\n",
              "    <tr>\n",
              "      <th>0</th>\n",
              "      <td>تعتبر السياحة احدي الركائز المهمة لاقتصاد بلد ...</td>\n",
              "      <td>1</td>\n",
              "    </tr>\n",
              "    <tr>\n",
              "      <th>1</th>\n",
              "      <td>تتوقف متعة السياحة الاطلاع تاريخ الأمم السابقة...</td>\n",
              "      <td>1</td>\n",
              "    </tr>\n",
              "    <tr>\n",
              "      <th>2</th>\n",
              "      <td>تحتاج السياحة الكثير الاهتمام بالمرافق السياحي...</td>\n",
              "      <td>1</td>\n",
              "    </tr>\n",
              "    <tr>\n",
              "      <th>3</th>\n",
              "      <td>تنقسم السياحة الهدف أربعة أنواع وهم</td>\n",
              "      <td>1</td>\n",
              "    </tr>\n",
              "    <tr>\n",
              "      <th>4</th>\n",
              "      <td>السياحة الترفيهية  تشمل زيارة الأماكن الساحلية...</td>\n",
              "      <td>1</td>\n",
              "    </tr>\n",
              "  </tbody>\n",
              "</table>\n",
              "</div>"
            ],
            "text/plain": [
              "                                                Text Summary\n",
              "0  تعتبر السياحة احدي الركائز المهمة لاقتصاد بلد ...       1\n",
              "1  تتوقف متعة السياحة الاطلاع تاريخ الأمم السابقة...       1\n",
              "2  تحتاج السياحة الكثير الاهتمام بالمرافق السياحي...       1\n",
              "3                تنقسم السياحة الهدف أربعة أنواع وهم       1\n",
              "4  السياحة الترفيهية  تشمل زيارة الأماكن الساحلية...       1"
            ]
          },
          "metadata": {
            "tags": []
          },
          "execution_count": 17
        }
      ]
    },
    {
      "cell_type": "code",
      "metadata": {
        "id": "AjxjeK-WQ1SW",
        "colab_type": "code",
        "colab": {}
      },
      "source": [
        "df_x=df[\"Text\"]\n",
        "df_y=df[\"Summary\"]"
      ],
      "execution_count": 0,
      "outputs": []
    },
    {
      "cell_type": "code",
      "metadata": {
        "id": "DZt3YYJHRCos",
        "colab_type": "code",
        "colab": {}
      },
      "source": [
        "cv = TfidfVectorizer(min_df=1)"
      ],
      "execution_count": 0,
      "outputs": []
    },
    {
      "cell_type": "code",
      "metadata": {
        "id": "Vvr9nvyCRLLn",
        "colab_type": "code",
        "colab": {}
      },
      "source": [
        "x_train, x_test, y_train, y_test = train_test_split(df_x, df_y, test_size=0.2, random_state=4)"
      ],
      "execution_count": 0,
      "outputs": []
    },
    {
      "cell_type": "code",
      "metadata": {
        "id": "VR79fxhWSJN9",
        "colab_type": "code",
        "colab": {
          "base_uri": "https://localhost:8080/",
          "height": 119
        },
        "outputId": "4d454923-0765-4ccf-971e-7a16ca31f305"
      },
      "source": [
        "x_train.head()"
      ],
      "execution_count": 72,
      "outputs": [
        {
          "output_type": "execute_result",
          "data": {
            "text/plain": [
              "16    تساعد السياحة التخلص الضغوطات والعقد النفسية ت...\n",
              "11    تعد السياحة سفر الانسان داخل خارج دولته بهدف غ...\n",
              "19    تمثل السياحة الثقافية وكذا السياحة الاثرية اقد...\n",
              "33    أهم فوائد الرياضة تقوي بنية الجسم وتجعله يتمتع...\n",
              "12    تتعدد فوائد وأهمية السياحة الكثير المجالات أبر...\n",
              "Name: Text, dtype: object"
            ]
          },
          "metadata": {
            "tags": []
          },
          "execution_count": 72
        }
      ]
    },
    {
      "cell_type": "code",
      "metadata": {
        "id": "BV1r79DfSMwW",
        "colab_type": "code",
        "colab": {}
      },
      "source": [
        "x_traincv = cv.fit_transform([\"Hi How are you How are you doing\",\"Hi what's up\",\"Wow that's awesome\"])"
      ],
      "execution_count": 0,
      "outputs": []
    },
    {
      "cell_type": "code",
      "metadata": {
        "id": "mjfrPNKWSlYS",
        "colab_type": "code",
        "colab": {
          "base_uri": "https://localhost:8080/",
          "height": 119
        },
        "outputId": "0d663f69-d50f-45b4-9eec-d01d8a496ce6"
      },
      "source": [
        "a = x_traincv.toarray()\n",
        "a"
      ],
      "execution_count": 74,
      "outputs": [
        {
          "output_type": "execute_result",
          "data": {
            "text/plain": [
              "array([[0.54275734, 0.        , 0.27137867, 0.20639047, 0.54275734,\n",
              "        0.        , 0.        , 0.        , 0.        , 0.54275734],\n",
              "       [0.        , 0.        , 0.        , 0.4736296 , 0.        ,\n",
              "        0.        , 0.62276601, 0.62276601, 0.        , 0.        ],\n",
              "       [0.        , 0.57735027, 0.        , 0.        , 0.        ,\n",
              "        0.57735027, 0.        , 0.        , 0.57735027, 0.        ]])"
            ]
          },
          "metadata": {
            "tags": []
          },
          "execution_count": 74
        }
      ]
    },
    {
      "cell_type": "code",
      "metadata": {
        "id": "ABg4OG9NX3p1",
        "colab_type": "code",
        "colab": {
          "base_uri": "https://localhost:8080/",
          "height": 51
        },
        "outputId": "dde6de7e-8aa6-4211-8d90-a22e120d1015"
      },
      "source": [
        "a[0]"
      ],
      "execution_count": 75,
      "outputs": [
        {
          "output_type": "execute_result",
          "data": {
            "text/plain": [
              "array([0.54275734, 0.        , 0.27137867, 0.20639047, 0.54275734,\n",
              "       0.        , 0.        , 0.        , 0.        , 0.54275734])"
            ]
          },
          "metadata": {
            "tags": []
          },
          "execution_count": 75
        }
      ]
    },
    {
      "cell_type": "code",
      "metadata": {
        "id": "EPXrokUkSoST",
        "colab_type": "code",
        "colab": {
          "base_uri": "https://localhost:8080/",
          "height": 34
        },
        "outputId": "9a247bf7-ffb8-4cda-8ab0-2f281df47bf2"
      },
      "source": [
        "cv.get_feature_names()"
      ],
      "execution_count": 76,
      "outputs": [
        {
          "output_type": "execute_result",
          "data": {
            "text/plain": [
              "['are', 'awesome', 'doing', 'hi', 'how', 'that', 'up', 'what', 'wow', 'you']"
            ]
          },
          "metadata": {
            "tags": []
          },
          "execution_count": 76
        }
      ]
    },
    {
      "cell_type": "code",
      "metadata": {
        "id": "_6s0fsMiSuLq",
        "colab_type": "code",
        "colab": {}
      },
      "source": [
        "x_traincv=cv.fit_transform(x_train)"
      ],
      "execution_count": 0,
      "outputs": []
    },
    {
      "cell_type": "code",
      "metadata": {
        "id": "6uPUiAWKUrr1",
        "colab_type": "code",
        "colab": {
          "base_uri": "https://localhost:8080/",
          "height": 34
        },
        "outputId": "b74596ab-9b84-46d2-a36b-a21e746355b9"
      },
      "source": [
        "a=x_traincv.toarray()\n",
        "a[0]"
      ],
      "execution_count": 78,
      "outputs": [
        {
          "output_type": "execute_result",
          "data": {
            "text/plain": [
              "array([0., 0., 0., ..., 0., 0., 0.])"
            ]
          },
          "metadata": {
            "tags": []
          },
          "execution_count": 78
        }
      ]
    },
    {
      "cell_type": "code",
      "metadata": {
        "id": "Nzh5jaxeUzr1",
        "colab_type": "code",
        "colab": {
          "base_uri": "https://localhost:8080/",
          "height": 51
        },
        "outputId": "0e44c1d9-184f-4bf6-f140-94f9432b8776"
      },
      "source": [
        "cv.inverse_transform(a[0])"
      ],
      "execution_count": 79,
      "outputs": [
        {
          "output_type": "execute_result",
          "data": {
            "text/plain": [
              "[array(['التخلص', 'السياحة', 'الضغوطات', 'العمل', 'النفسية', 'اليومية',\n",
              "        'تساعد', 'تسببها', 'مشاكل', 'والعقد'], dtype='<U13')]"
            ]
          },
          "metadata": {
            "tags": []
          },
          "execution_count": 79
        }
      ]
    },
    {
      "cell_type": "code",
      "metadata": {
        "id": "wRsch8cFU652",
        "colab_type": "code",
        "colab": {
          "base_uri": "https://localhost:8080/",
          "height": 34
        },
        "outputId": "e736db8e-6821-4986-9c72-b4283f3225cf"
      },
      "source": [
        "x_train.iloc[0]"
      ],
      "execution_count": 80,
      "outputs": [
        {
          "output_type": "execute_result",
          "data": {
            "text/plain": [
              "'تساعد السياحة التخلص الضغوطات والعقد النفسية تسببها مشاكل العمل اليومية'"
            ]
          },
          "metadata": {
            "tags": []
          },
          "execution_count": 80
        }
      ]
    },
    {
      "cell_type": "code",
      "metadata": {
        "id": "OvFiGXzLZLbN",
        "colab_type": "code",
        "colab": {}
      },
      "source": [
        "x_testcv=cv.transform(x_test)"
      ],
      "execution_count": 0,
      "outputs": []
    },
    {
      "cell_type": "code",
      "metadata": {
        "id": "IyHvMPapWjgI",
        "colab_type": "code",
        "colab": {}
      },
      "source": [
        "mnb = MultinomialNB()"
      ],
      "execution_count": 0,
      "outputs": []
    },
    {
      "cell_type": "code",
      "metadata": {
        "id": "lo7Lzb-xYJFw",
        "colab_type": "code",
        "colab": {}
      },
      "source": [
        "y_train=y_train.astype('int')"
      ],
      "execution_count": 0,
      "outputs": []
    },
    {
      "cell_type": "code",
      "metadata": {
        "id": "-YPg5biTYMiq",
        "colab_type": "code",
        "colab": {
          "base_uri": "https://localhost:8080/",
          "height": 578
        },
        "outputId": "eb9a9954-9556-4eb8-c4b4-8fc858119e8d"
      },
      "source": [
        "y_train"
      ],
      "execution_count": 83,
      "outputs": [
        {
          "output_type": "execute_result",
          "data": {
            "text/plain": [
              "16    1\n",
              "11    1\n",
              "19    1\n",
              "33    1\n",
              "12    1\n",
              "18    1\n",
              "38    1\n",
              "13    1\n",
              "10    1\n",
              "22    1\n",
              "32    1\n",
              "25    1\n",
              "17    1\n",
              "36    1\n",
              "29    1\n",
              "14    1\n",
              "2     1\n",
              "24    1\n",
              "27    1\n",
              "6     1\n",
              "35    1\n",
              "34    1\n",
              "21    1\n",
              "37    1\n",
              "0     1\n",
              "3     1\n",
              "30    1\n",
              "9     1\n",
              "8     1\n",
              "23    1\n",
              "1     1\n",
              "5     1\n",
              "Name: Summary, dtype: int64"
            ]
          },
          "metadata": {
            "tags": []
          },
          "execution_count": 83
        }
      ]
    },
    {
      "cell_type": "code",
      "metadata": {
        "id": "NC9Sp5CMYQYC",
        "colab_type": "code",
        "colab": {
          "base_uri": "https://localhost:8080/",
          "height": 34
        },
        "outputId": "515b06b4-1236-4fc5-e74e-bfdc497d8a67"
      },
      "source": [
        "mnb.fit(x_traincv,y_train)"
      ],
      "execution_count": 84,
      "outputs": [
        {
          "output_type": "execute_result",
          "data": {
            "text/plain": [
              "MultinomialNB(alpha=1.0, class_prior=None, fit_prior=True)"
            ]
          },
          "metadata": {
            "tags": []
          },
          "execution_count": 84
        }
      ]
    },
    {
      "cell_type": "code",
      "metadata": {
        "id": "qEnJMt0OYkhZ",
        "colab_type": "code",
        "colab": {
          "base_uri": "https://localhost:8080/",
          "height": 54
        },
        "outputId": "06764ba7-5877-49c6-ba7f-9536875de9ac"
      },
      "source": [
        "testmessage=x_test.iloc[0]\n",
        "testmessage"
      ],
      "execution_count": 85,
      "outputs": [
        {
          "output_type": "execute_result",
          "data": {
            "text/plain": [
              "'ولا تنحصر أهمية الرياضة الجانب الجسدي بينت الدراسات الرياضة تأثير ايجابي تحسين أعراض الأمراض النفسية كالفصام يتمثل بمشاعر الغضب والكراهية والشعور بالذنب والثبات الوضعي وتأخر الحركة6  وتتخذ الرياضة العديد الأشكال تكون رياضة ساكنة كرفع الأثقال والتزلج الماء حركية كالمشي والركض والتجديف وركوب الخيل والدراجات والسباحة فالسباحة نشاط ترفيهي تنافسي العديد الفوائد لجسم الانسان وأكثر الأشكال الرياضية شيوعا المشي يتخذ شكل نشاط يومي اعتيادي مسابقة تنافسية وتشجع منظمات الصحة محاولة قضاء المهام اليومية مشيا استخدام السيارة والحافلات والرياضة الحركية تحرك أكبر عدد العضلات الجسم وتنشط الدورة الدموية لحاجة الجسم الحركة للأكسجين'"
            ]
          },
          "metadata": {
            "tags": []
          },
          "execution_count": 85
        }
      ]
    },
    {
      "cell_type": "code",
      "metadata": {
        "id": "7byu3v-pYqh0",
        "colab_type": "code",
        "colab": {
          "base_uri": "https://localhost:8080/",
          "height": 34
        },
        "outputId": "32681a90-1d15-4f83-aa5b-30c86cff738a"
      },
      "source": [
        "predictions=mnb.predict(x_testcv)\n",
        "predictions"
      ],
      "execution_count": 95,
      "outputs": [
        {
          "output_type": "execute_result",
          "data": {
            "text/plain": [
              "array([1, 1, 1, 1, 1, 1, 1, 1])"
            ]
          },
          "metadata": {
            "tags": []
          },
          "execution_count": 95
        }
      ]
    },
    {
      "cell_type": "code",
      "metadata": {
        "id": "y0cIlWwIYwra",
        "colab_type": "code",
        "colab": {
          "base_uri": "https://localhost:8080/",
          "height": 34
        },
        "outputId": "8da50ee8-cd9a-4968-d7c0-f2233373b327"
      },
      "source": [
        "a=np.array(y_test)\n",
        "a"
      ],
      "execution_count": 96,
      "outputs": [
        {
          "output_type": "execute_result",
          "data": {
            "text/plain": [
              "array([1, 1, 1, 1, 1, 1, 1, 1], dtype=object)"
            ]
          },
          "metadata": {
            "tags": []
          },
          "execution_count": 96
        }
      ]
    },
    {
      "cell_type": "code",
      "metadata": {
        "id": "aOBzct46Zflt",
        "colab_type": "code",
        "colab": {}
      },
      "source": [
        "count = 0\n",
        "for i in range (len(predictions)):\n",
        "    if predictions[i] == a[i]:\n",
        "        count = count+1"
      ],
      "execution_count": 0,
      "outputs": []
    },
    {
      "cell_type": "code",
      "metadata": {
        "id": "9n_fK_w4Zvt0",
        "colab_type": "code",
        "colab": {
          "base_uri": "https://localhost:8080/",
          "height": 34
        },
        "outputId": "b10beecd-f650-4d55-cfdb-00b2310b1e99"
      },
      "source": [
        "count"
      ],
      "execution_count": 98,
      "outputs": [
        {
          "output_type": "execute_result",
          "data": {
            "text/plain": [
              "8"
            ]
          },
          "metadata": {
            "tags": []
          },
          "execution_count": 98
        }
      ]
    },
    {
      "cell_type": "code",
      "metadata": {
        "id": "aaln5zCqZyNo",
        "colab_type": "code",
        "colab": {
          "base_uri": "https://localhost:8080/",
          "height": 34
        },
        "outputId": "6c1d8753-ea54-40eb-e4f7-e925ac010305"
      },
      "source": [
        "len(predictions)"
      ],
      "execution_count": 99,
      "outputs": [
        {
          "output_type": "execute_result",
          "data": {
            "text/plain": [
              "8"
            ]
          },
          "metadata": {
            "tags": []
          },
          "execution_count": 99
        }
      ]
    },
    {
      "cell_type": "code",
      "metadata": {
        "id": "DwiHH15BaCQu",
        "colab_type": "code",
        "colab": {
          "base_uri": "https://localhost:8080/",
          "height": 34
        },
        "outputId": "4b71718d-9ee2-40ec-ef32-9da5858a9443"
      },
      "source": [
        "accuracy = count / len(predictions)\n",
        "accuracy"
      ],
      "execution_count": 101,
      "outputs": [
        {
          "output_type": "execute_result",
          "data": {
            "text/plain": [
              "1.0"
            ]
          },
          "metadata": {
            "tags": []
          },
          "execution_count": 101
        }
      ]
    },
    {
      "cell_type": "code",
      "metadata": {
        "id": "rVq3770JaK_e",
        "colab_type": "code",
        "colab": {
          "base_uri": "https://localhost:8080/",
          "height": 34
        },
        "outputId": "7f120382-94fa-45e5-b8b8-221273081147"
      },
      "source": [
        "# you can test one text as the follow\n",
        "predictions=mnb.predict(x_testcv[0])\n",
        "predictions"
      ],
      "execution_count": 163,
      "outputs": [
        {
          "output_type": "execute_result",
          "data": {
            "text/plain": [
              "array([1])"
            ]
          },
          "metadata": {
            "tags": []
          },
          "execution_count": 163
        }
      ]
    },
    {
      "cell_type": "code",
      "metadata": {
        "id": "JbseplYnggte",
        "colab_type": "code",
        "colab": {}
      },
      "source": [
        ""
      ],
      "execution_count": 0,
      "outputs": []
    }
  ]
}